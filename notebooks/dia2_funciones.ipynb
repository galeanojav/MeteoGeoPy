{
 "cells": [
  {
   "cell_type": "markdown",
   "metadata": {},
   "source": [
    "## 1. Funciones en Python\n",
    "\n",
    "Las **funciones** permiten agrupar instrucciones bajo un nombre.  \n",
    "- Se **definen** con la palabra clave `def`.  \n",
    "- Pueden recibir **argumentos** de entrada.  \n",
    "- Pueden devolver un **valor de salida** con `return`.  \n",
    "\n",
    "### Ventajas:\n",
    "- Reutilización de código.\n",
    "- Programas más legibles y organizados.\n",
    "- Permite dividir problemas grandes en partes pequeñas."
   ]
  },
  {
   "cell_type": "code",
   "execution_count": 6,
   "metadata": {},
   "outputs": [
    {
     "name": "stdout",
     "output_type": "stream",
     "text": [
      "Hola, bienvenidos al curso de Python\n"
     ]
    }
   ],
   "source": [
    "def saludar():\n",
    "    print(\"Hola, bienvenidos al curso de Python\")\n",
    "    \n",
    "saludar()"
   ]
  },
  {
   "cell_type": "code",
   "execution_count": 13,
   "metadata": {},
   "outputs": [
    {
     "name": "stdout",
     "output_type": "stream",
     "text": [
      "37.77777777777778\n"
     ]
    }
   ],
   "source": [
    "def fahrenheit_a_celsius(f):\n",
    "    \"\"\"Función que calcula los grados celsius, \n",
    "    cuando introducimos grados fahrenheit\"\"\"\n",
    "    return (f - 32) * 5/9\n",
    "\n",
    "print(fahrenheit_a_celsius(100))  # 37.77"
   ]
  },
  {
   "cell_type": "code",
   "execution_count": 14,
   "metadata": {},
   "outputs": [
    {
     "name": "stdout",
     "output_type": "stream",
     "text": [
      "Help on function fahrenheit_a_celsius in module __main__:\n",
      "\n",
      "fahrenheit_a_celsius(f)\n",
      "    Función que calcula los grados celsius,\n",
      "    cuando introducimos grados fahrenheit\n",
      "\n"
     ]
    }
   ],
   "source": [
    "help(fahrenheit_a_celsius)"
   ]
  },
  {
   "cell_type": "code",
   "execution_count": 8,
   "metadata": {},
   "outputs": [
    {
     "name": "stdout",
     "output_type": "stream",
     "text": [
      "Media semanal: 30.714285714285715\n"
     ]
    }
   ],
   "source": [
    "def media_temperaturas(temp_dias):\n",
    "    return sum(temp_dias) / len(temp_dias)\n",
    "\n",
    "temps = [29, 31, 33, 27, 25, 34, 36]\n",
    "print(\"Media semanal:\", media_temperaturas(temps))"
   ]
  },
  {
   "cell_type": "code",
   "execution_count": 9,
   "metadata": {},
   "outputs": [
    {
     "name": "stdout",
     "output_type": "stream",
     "text": [
      "Normal\n",
      "Ola de calor\n",
      "Ola de calor\n"
     ]
    }
   ],
   "source": [
    "def clasificar_temp(temp, umbral=30):\n",
    "    if temp > umbral:\n",
    "        return \"Ola de calor\"\n",
    "    else:\n",
    "        return \"Normal\"\n",
    "\n",
    "print(clasificar_temp(28))         # Normal\n",
    "print(clasificar_temp(32))         # Ola de calor\n",
    "print(clasificar_temp(22, umbral=20)) # Ola de calor"
   ]
  },
  {
   "cell_type": "code",
   "execution_count": 10,
   "metadata": {},
   "outputs": [
    {
     "name": "stdout",
     "output_type": "stream",
     "text": [
      "Mínimo: 25 Máximo: 36 Media: 30.714285714285715\n"
     ]
    }
   ],
   "source": [
    "def estadisticas(temp_dias):\n",
    "    return min(temp_dias), max(temp_dias), sum(temp_dias)/len(temp_dias)\n",
    "\n",
    "minimo, maximo, media = estadisticas(temps)\n",
    "print(\"Mínimo:\", minimo, \"Máximo:\", maximo, \"Media:\", media)"
   ]
  },
  {
   "cell_type": "markdown",
   "metadata": {},
   "source": [
    "### 🟢 Ejercicio fácil: Contar días de ola de calor\n",
    "\n",
    "Dada una lista de temperaturas, escribe una **función** que cuente cuántos días superan los 30 °C.\n",
    "\n",
    "Ejemplo:\n",
    "```python\n",
    "temps = [29, 31, 33, 27, 35, 36, 34, 28]"
   ]
  },
  {
   "cell_type": "code",
   "execution_count": 12,
   "metadata": {},
   "outputs": [
    {
     "name": "stdout",
     "output_type": "stream",
     "text": [
      "Número de días con ola de calor: 5\n"
     ]
    }
   ],
   "source": [
    "def contar_olas(temps, umbral=30):\n",
    "    dias = 0\n",
    "    for t in temps:\n",
    "        if t > umbral:\n",
    "            dias += 1\n",
    "    return dias\n",
    "\n",
    "temps = [29, 31, 33, 27, 35, 36, 34, 28]\n",
    "print(\"Número de días con ola de calor:\", contar_olas(temps))"
   ]
  },
  {
   "cell_type": "markdown",
   "metadata": {},
   "source": [
    "### 📝 Ejercicio reto: Racha más larga de ola de calor\n",
    "\n",
    "Dada una lista de temperaturas diarias, escribe una **función** que encuentre:\n",
    "\n",
    "1. La racha más larga de días consecutivos con temperatura > 30°C.  \n",
    "2. El número de días de esa racha.  \n",
    "\n",
    "Ejemplo:  \n",
    "```python\n",
    "temps = [29, 31, 33, 27, 35, 36, 34, 28]\n",
    "\n",
    "Resultado esperado Racha más larga: 3 días (35, 36, 34)"
   ]
  },
  {
   "cell_type": "code",
   "execution_count": 11,
   "metadata": {},
   "outputs": [
    {
     "name": "stdout",
     "output_type": "stream",
     "text": [
      "Racha más larga: 3 días [35, 36, 34]\n"
     ]
    }
   ],
   "source": [
    "def racha_ola_calor(temps, umbral=30):\n",
    "    racha_actual = 0\n",
    "    racha_max = 0\n",
    "    inicio_max = 0\n",
    "\n",
    "    inicio_actual = 0\n",
    "    for i, t in enumerate(temps):\n",
    "        if t > umbral:\n",
    "            if racha_actual == 0:\n",
    "                inicio_actual = i\n",
    "            racha_actual += 1\n",
    "            if racha_actual > racha_max:\n",
    "                racha_max = racha_actual\n",
    "                inicio_max = inicio_actual\n",
    "        else:\n",
    "            racha_actual = 0\n",
    "    \n",
    "    return racha_max, temps[inicio_max:inicio_max+racha_max]\n",
    "\n",
    "# Ejemplo de uso\n",
    "temps = [29, 31, 33, 27, 35, 36, 34, 28]\n",
    "dias, valores = racha_ola_calor(temps)\n",
    "print(f\"Racha más larga: {dias} días {valores}\")"
   ]
  },
  {
   "cell_type": "markdown",
   "metadata": {},
   "source": [
    "## 🌍 Ejemplos de funciones útiles en Geofísica/Meteo\n"
   ]
  },
  {
   "cell_type": "markdown",
   "metadata": {},
   "source": [
    "1. Convertir grados a radianes (y viceversa)\n",
    "\n",
    "Muchos cálculos en sismología o dinámica atmosférica usan trigonometría."
   ]
  },
  {
   "cell_type": "code",
   "execution_count": 15,
   "metadata": {},
   "outputs": [],
   "source": [
    "import math\n",
    "\n",
    "def grados_a_radianes(angulo):\n",
    "    return angulo * math.pi / 180\n",
    "\n",
    "def radianes_a_grados(angulo):\n",
    "    return angulo * 180 / math.pi"
   ]
  },
  {
   "cell_type": "markdown",
   "metadata": {},
   "source": [
    "2. Distancia aproximada entre dos puntos en la Tierra (fórmula de Haversine)\n",
    "\n",
    "### Fórmula de Haversine\n",
    "\n",
    "Para calcular la distancia \\(d\\) entre dos puntos de la superficie terrestre, dados por sus **latitudes** y **longitudes**:\n",
    "\n",
    "1. Definimos primero las diferencias en latitud y longitud:\n",
    "\n",
    "$$\n",
    "\\Delta \\varphi = \\varphi_2 - \\varphi_1\n",
    "\\qquad\n",
    "\\Delta \\lambda = \\lambda_2 - \\lambda_1\n",
    "$$\n",
    "\n",
    "donde:\n",
    "- $(\\varphi_1, \\varphi_2)$ son las latitudes (en radianes).\n",
    "- $(\\lambda_1, \\lambda_2)$ son las longitudes (en radianes).\n",
    "\n",
    "---\n",
    "\n",
    "2. Aplicamos la fórmula de Haversine:\n",
    "\n",
    "$$\n",
    "a = \\sin^2\\!\\left(\\tfrac{\\Delta \\varphi}{2}\\right) +\n",
    "    \\cos(\\varphi_1)\\cos(\\varphi_2)\\sin^2\\!\\left(\\tfrac{\\Delta \\lambda}{2}\\right)\n",
    "$$\n",
    "\n",
    "---\n",
    "\n",
    "3. Finalmente, la distancia entre los dos puntos es:\n",
    "\n",
    "$$\n",
    "d = 2R \\, \\arcsin(\\sqrt{a})\n",
    "$$\n",
    "\n",
    "donde \\(R\\) es el radio medio de la Tierra ( $R \\approx 6371 \\, \\text{km}$ ).   \n"
   ]
  },
  {
   "cell_type": "code",
   "execution_count": 16,
   "metadata": {},
   "outputs": [
    {
     "name": "stdout",
     "output_type": "stream",
     "text": [
      "355.9291943074949 km\n"
     ]
    }
   ],
   "source": [
    "import math\n",
    "\n",
    "def distancia_haversine(lat1, lon1, lat2, lon2):\n",
    "    R = 6371  # radio medio de la Tierra en km\n",
    "    lat1, lon1, lat2, lon2 = map(math.radians, [lat1, lon1, lat2, lon2])\n",
    "    dlat = lat2 - lat1\n",
    "    dlon = lon2 - lon1\n",
    "    a = math.sin(dlat/2)**2 + math.cos(lat1)*math.cos(lat2)*math.sin(dlon/2)**2\n",
    "    c = 2 * math.asin(math.sqrt(a))\n",
    "    return R * c\n",
    "\n",
    "# Ejemplo: distancia Madrid–Granada\n",
    "print(distancia_haversine(40.4, -3.7, 37.2, -3.6), \"km\")"
   ]
  },
  {
   "cell_type": "markdown",
   "metadata": {},
   "source": [
    "🔹 Coordenadas aproximadas\n",
    "\n",
    "- Isla Decepción (Shetland del Sur, Antártida):\n",
    "\t- lat = -62.97, lon = -60.67\n",
    "- Madrid (España):\n",
    "\t- lat = 40.42, lon = -3.70"
   ]
  },
  {
   "cell_type": "code",
   "execution_count": 17,
   "metadata": {},
   "outputs": [
    {
     "name": "stdout",
     "output_type": "stream",
     "text": [
      "Distancia Decepción → Madrid: 12553 km\n"
     ]
    }
   ],
   "source": [
    "# Coordenadas\n",
    "lat_deception, lon_deception = -62.97, -60.67\n",
    "lat_madrid, lon_madrid = 40.42, -3.70\n",
    "\n",
    "distancia = distancia_haversine(lat_deception, lon_deception, lat_madrid, lon_madrid)\n",
    "print(f\"Distancia Decepción → Madrid: {distancia:.0f} km\")"
   ]
  },
  {
   "cell_type": "markdown",
   "metadata": {},
   "source": [
    "3. Magnitud sísmica de Richter (simplificada)\n",
    "\n",
    "Una versión educativa que relaciona amplitud de onda y distancia epicentral."
   ]
  },
  {
   "cell_type": "code",
   "execution_count": 18,
   "metadata": {},
   "outputs": [
    {
     "name": "stdout",
     "output_type": "stream",
     "text": [
      "7.090299956639813\n"
     ]
    }
   ],
   "source": [
    "import math\n",
    "\n",
    "def magnitud_richter(amplitud_mm, distancia_km):\n",
    "    return math.log10(amplitud_mm) + 3 * math.log10(8 * distancia_km) - 2.92\n",
    "\n",
    "print(magnitud_richter(20, 100))  # Ejemplo"
   ]
  },
  {
   "cell_type": "markdown",
   "metadata": {},
   "source": [
    "4. Índice de calor (heat index)\n",
    "\n",
    "En meteorología se usa para estimar la “sensación térmica” combinando temperatura y humedad relativa."
   ]
  },
  {
   "cell_type": "code",
   "execution_count": 19,
   "metadata": {},
   "outputs": [
    {
     "name": "stdout",
     "output_type": "stream",
     "text": [
      "40.40927367955577\n"
     ]
    }
   ],
   "source": [
    "def indice_calor(temp_c, humedad):\n",
    "    T = temp_c * 9/5 + 32  # convertir a °F\n",
    "    R = humedad\n",
    "    HI = (-42.379 + 2.04901523*T + 10.14333127*R\n",
    "          - 0.22475541*T*R - 0.00683783*T**2\n",
    "          - 0.05481717*R**2 + 0.00122874*T**2*R\n",
    "          + 0.00085282*T*R**2 - 0.00000199*T**2*R**2)\n",
    "    return (HI - 32) * 5/9  # devolver en °C\n",
    "\n",
    "print(indice_calor(32, 70))  # Ejemplo: 32°C con 70% HR"
   ]
  },
  {
   "cell_type": "markdown",
   "metadata": {},
   "source": [
    "## Listas, Rangos, Matrices (arrays)"
   ]
  },
  {
   "cell_type": "markdown",
   "metadata": {},
   "source": [
    "Los \"arrays\" no son matrices en sentido estricto sino vectores de cualquier dimensión. Si multiplicamos 2 arrays de dimensión 2, no hace el producto matricial sino que multiplica los arrays elemento a elemento. Hay que usar las funciones específicas para el producto matricial o definir el objeto como clase \"matrix\" (que es un tipo especial de \"array\" que tiene implementados los métodos de las matrices matemáticas)"
   ]
  },
  {
   "cell_type": "code",
   "execution_count": 1,
   "metadata": {},
   "outputs": [],
   "source": [
    "import numpy as np"
   ]
  },
  {
   "cell_type": "code",
   "execution_count": 2,
   "metadata": {},
   "outputs": [
    {
     "data": {
      "text/plain": [
       "range"
      ]
     },
     "execution_count": 2,
     "metadata": {},
     "output_type": "execute_result"
    }
   ],
   "source": [
    "r=range(7,-5,-3)\n",
    "type(r)"
   ]
  },
  {
   "cell_type": "code",
   "execution_count": 3,
   "metadata": {},
   "outputs": [
    {
     "data": {
      "text/plain": [
       "list"
      ]
     },
     "execution_count": 3,
     "metadata": {},
     "output_type": "execute_result"
    }
   ],
   "source": [
    "l=list(r)\n",
    "type(l)"
   ]
  },
  {
   "cell_type": "markdown",
   "metadata": {},
   "source": [
    "Un rango lo podemos convertir en lista"
   ]
  },
  {
   "cell_type": "code",
   "execution_count": 4,
   "metadata": {},
   "outputs": [
    {
     "data": {
      "text/plain": [
       "[7, 4, 1, -2]"
      ]
     },
     "execution_count": 4,
     "metadata": {},
     "output_type": "execute_result"
    }
   ],
   "source": [
    "l"
   ]
  },
  {
   "cell_type": "markdown",
   "metadata": {},
   "source": [
    "Y tanto en los rangos como en las listas podemos buscar el índice para que el aparece un cierto valor"
   ]
  },
  {
   "cell_type": "code",
   "execution_count": 5,
   "metadata": {},
   "outputs": [
    {
     "data": {
      "text/plain": [
       "1"
      ]
     },
     "execution_count": 5,
     "metadata": {},
     "output_type": "execute_result"
    }
   ],
   "source": [
    "r.index(4)"
   ]
  },
  {
   "cell_type": "code",
   "execution_count": 8,
   "metadata": {},
   "outputs": [],
   "source": [
    "lista=[0.2, 1.5, 1.5, 2.2]"
   ]
  },
  {
   "cell_type": "code",
   "execution_count": 11,
   "metadata": {},
   "outputs": [
    {
     "data": {
      "text/plain": [
       "2"
      ]
     },
     "execution_count": 11,
     "metadata": {},
     "output_type": "execute_result"
    }
   ],
   "source": [
    "lista.index(1.5,2)"
   ]
  },
  {
   "cell_type": "markdown",
   "metadata": {},
   "source": [
    "Y podemos convertir una lista en un array de numpy"
   ]
  },
  {
   "cell_type": "code",
   "execution_count": 8,
   "metadata": {
    "collapsed": true
   },
   "outputs": [],
   "source": [
    "list1=[0.5, 0.7, 0.9]"
   ]
  },
  {
   "cell_type": "code",
   "execution_count": 18,
   "metadata": {
    "collapsed": true
   },
   "outputs": [],
   "source": [
    "list2=[2, 2.1, 2.2]"
   ]
  },
  {
   "cell_type": "code",
   "execution_count": 19,
   "metadata": {},
   "outputs": [
    {
     "data": {
      "text/plain": [
       "(1, 3)"
      ]
     },
     "execution_count": 19,
     "metadata": {},
     "output_type": "execute_result"
    }
   ],
   "source": [
    "array1.shape"
   ]
  },
  {
   "cell_type": "code",
   "execution_count": 20,
   "metadata": {},
   "outputs": [
    {
     "data": {
      "text/plain": [
       "(1, 3)"
      ]
     },
     "execution_count": 20,
     "metadata": {},
     "output_type": "execute_result"
    }
   ],
   "source": [
    "np.shape(array1)"
   ]
  },
  {
   "cell_type": "code",
   "execution_count": 21,
   "metadata": {
    "collapsed": true
   },
   "outputs": [],
   "source": [
    "array2=np.array(list2)"
   ]
  },
  {
   "cell_type": "markdown",
   "metadata": {},
   "source": [
    "Y crear un array de arrays"
   ]
  },
  {
   "cell_type": "code",
   "execution_count": 28,
   "metadata": {},
   "outputs": [],
   "source": [
    "array1_2=np.array([array1,array2])"
   ]
  },
  {
   "cell_type": "code",
   "execution_count": 29,
   "metadata": {},
   "outputs": [
    {
     "data": {
      "text/plain": [
       "(2,)"
      ]
     },
     "execution_count": 29,
     "metadata": {},
     "output_type": "execute_result"
    }
   ],
   "source": [
    "#type(array1_2)\n",
    "array1_2.shape\n",
    "#np.shape(array1_2)"
   ]
  },
  {
   "cell_type": "code",
   "execution_count": 30,
   "metadata": {},
   "outputs": [
    {
     "name": "stdout",
     "output_type": "stream",
     "text": [
      "[array([[1, 3, 5]]) array([ 2. ,  2.1,  2.2])]\n"
     ]
    }
   ],
   "source": [
    "print(array1_2)"
   ]
  },
  {
   "cell_type": "markdown",
   "metadata": {},
   "source": [
    "Para generar una secuencia regular con numpy existe la función \"linspace\" (o \"logspace\" si lo queremos en escala logarítmica, pero se indican los exponentes para el comienzo y el final de la secuencia).\n",
    "Se indica el primer valor de la secuencia, el último, y el número total de puntos de la secuencia.\n",
    "En este caso SÍ se incluye el valor final."
   ]
  },
  {
   "cell_type": "code",
   "execution_count": 35,
   "metadata": {},
   "outputs": [],
   "source": [
    "N=101\n",
    "t=np.linspace(0,10,N)"
   ]
  },
  {
   "cell_type": "code",
   "execution_count": 36,
   "metadata": {},
   "outputs": [
    {
     "name": "stdout",
     "output_type": "stream",
     "text": [
      "[  0.    0.1   0.2   0.3   0.4   0.5   0.6   0.7   0.8   0.9   1.    1.1\n",
      "   1.2   1.3   1.4   1.5   1.6   1.7   1.8   1.9   2.    2.1   2.2   2.3\n",
      "   2.4   2.5   2.6   2.7   2.8   2.9   3.    3.1   3.2   3.3   3.4   3.5\n",
      "   3.6   3.7   3.8   3.9   4.    4.1   4.2   4.3   4.4   4.5   4.6   4.7\n",
      "   4.8   4.9   5.    5.1   5.2   5.3   5.4   5.5   5.6   5.7   5.8   5.9\n",
      "   6.    6.1   6.2   6.3   6.4   6.5   6.6   6.7   6.8   6.9   7.    7.1\n",
      "   7.2   7.3   7.4   7.5   7.6   7.7   7.8   7.9   8.    8.1   8.2   8.3\n",
      "   8.4   8.5   8.6   8.7   8.8   8.9   9.    9.1   9.2   9.3   9.4   9.5\n",
      "   9.6   9.7   9.8   9.9  10. ]\n"
     ]
    }
   ],
   "source": [
    "#type(t)\n",
    "print(t)"
   ]
  },
  {
   "cell_type": "code",
   "execution_count": 37,
   "metadata": {},
   "outputs": [
    {
     "name": "stdout",
     "output_type": "stream",
     "text": [
      "[  1.00000000e+00   3.16227766e+00   1.00000000e+01   3.16227766e+01\n",
      "   1.00000000e+02   3.16227766e+02   1.00000000e+03   3.16227766e+03\n",
      "   1.00000000e+04]\n"
     ]
    }
   ],
   "source": [
    "tlog = np.logspace(0,4,9) #desde 10⁰ hasta 10⁴, ambos inclusive\n",
    "print(tlog)"
   ]
  },
  {
   "cell_type": "markdown",
   "metadata": {},
   "source": [
    "# Bucles"
   ]
  },
  {
   "cell_type": "markdown",
   "metadata": {},
   "source": [
    "Para lo que más se usan los rangos es para crear bucles. \n",
    "La sintaxis es \n",
    "\n",
    "for (variable) in (secuencia):\n",
    "\n",
    "    bloque de ejecución (tabulado)\n",
    "    \n",
    "(Fin de la ejecución)\n",
    "\n",
    "Recordad que todo lo que queramos que se ejecute en el bucle debe ir tabulado"
   ]
  },
  {
   "cell_type": "code",
   "execution_count": 40,
   "metadata": {
    "collapsed": true
   },
   "outputs": [],
   "source": [
    "t=['pepe','antonio','luis']"
   ]
  },
  {
   "cell_type": "code",
   "execution_count": 42,
   "metadata": {},
   "outputs": [
    {
     "name": "stdout",
     "output_type": "stream",
     "text": [
      "pepe\n",
      "antonio\n",
      "luis\n"
     ]
    }
   ],
   "source": [
    "for i in t:\n",
    "    print(i)"
   ]
  },
  {
   "cell_type": "code",
   "execution_count": 43,
   "metadata": {},
   "outputs": [
    {
     "name": "stdout",
     "output_type": "stream",
     "text": [
      "1\n",
      "3\n",
      "5\n",
      "7\n",
      "9\n",
      "11\n"
     ]
    }
   ],
   "source": [
    "for indice in range(1,13,2):\n",
    "    print(indice)"
   ]
  },
  {
   "cell_type": "markdown",
   "metadata": {},
   "source": [
    "# Integral numerica"
   ]
  },
  {
   "cell_type": "markdown",
   "metadata": {},
   "source": [
    "Vamos a comenzar a hacer cálculo numérico. Empezaremos con la integral del sin(x) y sin(x)^2 entre 0  y 2 $pi$"
   ]
  },
  {
   "cell_type": "code",
   "execution_count": 44,
   "metadata": {
    "collapsed": true
   },
   "outputs": [],
   "source": [
    "points = [[],[]] #lista de 2 listas (parejas de puntos)\n",
    "integral = [] #lista con los valores de la integral\n",
    "N=20000 #Nº de puntos para hacer la integral"
   ]
  },
  {
   "cell_type": "code",
   "execution_count": 47,
   "metadata": {
    "scrolled": true
   },
   "outputs": [
    {
     "data": {
      "text/plain": [
       "20000"
      ]
     },
     "execution_count": 47,
     "metadata": {},
     "output_type": "execute_result"
    }
   ],
   "source": [
    "for i in range(N):\n",
    "    #print \"\\n( x\",i,\",y\",i,\")\"\n",
    "    x = float(2*np.pi*i/(N-1))\n",
    "    y = np.sin(x)\n",
    "    points[0].append(x)\n",
    "    points[1].append(y)\n",
    "#print(points)\n",
    "len(points[0])"
   ]
  },
  {
   "cell_type": "markdown",
   "metadata": {},
   "source": [
    "Haremos la integral numérica con el método del trapecio: $$\\sum_{i=1}^{N}\\frac{f(x_{i-1})+f(x_{i})}{2}\\cdot \\Delta x$$"
   ]
  },
  {
   "cell_type": "code",
   "execution_count": 48,
   "metadata": {},
   "outputs": [],
   "source": [
    "integs=[]\n",
    "for i in range(1,N):\n",
    "    integ = ((points[1][i-1]+points[1][i])/2)*(points[0][i]-points[0][i-1])\n",
    "    integs.append(integ)\n",
    "#print(integs)"
   ]
  },
  {
   "cell_type": "code",
   "execution_count": 49,
   "metadata": {},
   "outputs": [
    {
     "name": "stdout",
     "output_type": "stream",
     "text": [
      "\n",
      "Integral:  -1.11886446137e-15\n"
     ]
    }
   ],
   "source": [
    " print (\"\\nIntegral: \",sum(integs))"
   ]
  },
  {
   "cell_type": "markdown",
   "metadata": {},
   "source": [
    "Ahora usando el \"linspace\""
   ]
  },
  {
   "cell_type": "code",
   "execution_count": 50,
   "metadata": {
    "collapsed": true
   },
   "outputs": [],
   "source": [
    "x=np.linspace(0,2*np.pi,N)\n",
    "y=np.sin(x)"
   ]
  },
  {
   "cell_type": "code",
   "execution_count": 53,
   "metadata": {},
   "outputs": [
    {
     "name": "stdout",
     "output_type": "stream",
     "text": [
      "-4.93529566324e-08\n"
     ]
    }
   ],
   "source": [
    "integs=0\n",
    "for i in range(1,N):\n",
    "    integ = integ+((y[i-1]+y[i])/2)*(x[i]-x[i-1])\n",
    "print(integ)"
   ]
  },
  {
   "cell_type": "code",
   "execution_count": 52,
   "metadata": {},
   "outputs": [
    {
     "name": "stdout",
     "output_type": "stream",
     "text": [
      "\n",
      "Integral:  -2.44111408005e-16\n"
     ]
    }
   ],
   "source": [
    " print (\"\\nIntegral: \",sum(integs))"
   ]
  },
  {
   "cell_type": "markdown",
   "metadata": {},
   "source": [
    "Y finalmente usando la propia función de Python para calcular integrales numéricas"
   ]
  },
  {
   "cell_type": "code",
   "execution_count": 54,
   "metadata": {},
   "outputs": [
    {
     "name": "stdout",
     "output_type": "stream",
     "text": [
      "-2.22044604925e-16\n"
     ]
    }
   ],
   "source": [
    "integr=np.trapz(y,x)\n",
    "print(integr)"
   ]
  },
  {
   "cell_type": "markdown",
   "metadata": {},
   "source": [
    "# Sentencias de Control  "
   ]
  },
  {
   "cell_type": "markdown",
   "metadata": {},
   "source": [
    "A partir de condiciones podemos controlar el flujo del programa. Vamos a ver 2 sentencias de Control: \\bf{if} y \\bf{while}"
   ]
  },
  {
   "cell_type": "markdown",
   "metadata": {},
   "source": [
    "Siempre que vamos a ejecutar unas instrucciones cuando se cumplen unas ciertas condiciones hay que poner la condición primero seguido de \":\", y el conjunto de instrucciones se tienen que estar tabulado para que Python sepa cuáles son las que tiene que ejecutar"
   ]
  },
  {
   "cell_type": "markdown",
   "metadata": {},
   "source": [
    "Problema"
   ]
  },
  {
   "cell_type": "markdown",
   "metadata": {},
   "source": [
    "Vamos a calcular cuántos huevos, de masa 100g, habría que lanzarle al cerdo, de masa 50kg, para detenerlo, si se movía con una velocidad de 1 m/s, y los huevos los disparábamos a 10m/s"
   ]
  },
  {
   "cell_type": "code",
   "execution_count": 63,
   "metadata": {
    "collapsed": true
   },
   "outputs": [],
   "source": [
    "mc=50\n",
    "mh=0.1\n",
    "vc0=1\n",
    "vh0=10\n",
    "vci=vc0\n",
    "vcf=vci"
   ]
  },
  {
   "cell_type": "code",
   "execution_count": 64,
   "metadata": {},
   "outputs": [
    {
     "name": "stdout",
     "output_type": "stream",
     "text": [
      "51\n"
     ]
    }
   ],
   "source": [
    "n=0\n",
    "while vcf>0:\n",
    "    vcf=(mc*vci-mh*vh0)/(mc+mh)\n",
    "    vci=vcf\n",
    "    mc=mc+mh\n",
    "    n=n+1\n",
    "print(n)"
   ]
  },
  {
   "cell_type": "code",
   "execution_count": null,
   "metadata": {
    "collapsed": true
   },
   "outputs": [],
   "source": []
  },
  {
   "cell_type": "code",
   "execution_count": null,
   "metadata": {
    "collapsed": true
   },
   "outputs": [],
   "source": []
  },
  {
   "cell_type": "code",
   "execution_count": null,
   "metadata": {
    "collapsed": true
   },
   "outputs": [],
   "source": []
  },
  {
   "cell_type": "code",
   "execution_count": null,
   "metadata": {
    "collapsed": true
   },
   "outputs": [],
   "source": []
  },
  {
   "cell_type": "markdown",
   "metadata": {},
   "source": [
    "\n",
    "# Cálculo del radio del planeta"
   ]
  },
  {
   "cell_type": "markdown",
   "metadata": {},
   "source": [
    "Como conocemos el valor de la gravedad \"g\" vamos a calcular el radio del planeta, $R_{P}$ usando la definición del campo gravitatorio para un cuerpo de radio R, conocida su densidad. Su módulo se puede escribir como:\n",
    "$$g(R)=G\\frac{M}{R^2}=G\\frac{\\int_{0}^{R}\\rho 4\\pi r^2 dr}{R^2}$$\n"
   ]
  },
  {
   "cell_type": "markdown",
   "metadata": {},
   "source": [
    "Como nos dicen que su densidad varía linealmente desde el hierro fundido en el núcleo ($\\rho_{0}=11 g/cm^3$) hasta los silicatos ($\\rho_{1}=2.7 g/cm^3$) en la corteza, la escribiremos como:\n",
    "$$\\rho(r) = (\\rho_{1} - \\rho_{0}) \\frac{r}{R_{P}}+\\rho_{0}$$"
   ]
  },
  {
   "cell_type": "code",
   "execution_count": 65,
   "metadata": {
    "collapsed": true
   },
   "outputs": [],
   "source": [
    "R=10000000\n",
    "G=6.674e-11\n",
    "rho0=11000\n",
    "rho1=2700\n",
    "\n",
    "r=np.linspace(0,R,1001)"
   ]
  },
  {
   "cell_type": "code",
   "execution_count": 68,
   "metadata": {
    "collapsed": true
   },
   "outputs": [],
   "source": [
    "rho=r*(rho1-rho0)/R + rho0\n",
    "#print(rho)"
   ]
  },
  {
   "cell_type": "code",
   "execution_count": 69,
   "metadata": {},
   "outputs": [
    {
     "data": {
      "text/plain": [
       "array([        0.,     10000.,     20000., ...,   9980000.,   9990000.,\n",
       "        10000000.])"
      ]
     },
     "execution_count": 69,
     "metadata": {},
     "output_type": "execute_result"
    }
   ],
   "source": [
    "r"
   ]
  },
  {
   "cell_type": "code",
   "execution_count": 70,
   "metadata": {
    "collapsed": true
   },
   "outputs": [],
   "source": [
    "f=4*np.pi*r*r*rho"
   ]
  },
  {
   "cell_type": "code",
   "execution_count": 71,
   "metadata": {
    "collapsed": true
   },
   "outputs": [],
   "source": [
    "m=np.trapz(f,r)"
   ]
  },
  {
   "cell_type": "code",
   "execution_count": 72,
   "metadata": {
    "collapsed": true
   },
   "outputs": [],
   "source": [
    "g=G*m/(R*R)"
   ]
  },
  {
   "cell_type": "code",
   "execution_count": 73,
   "metadata": {},
   "outputs": [
    {
     "data": {
      "text/plain": [
       "13.348981205461463"
      ]
     },
     "execution_count": 73,
     "metadata": {},
     "output_type": "execute_result"
    }
   ],
   "source": [
    "g"
   ]
  },
  {
   "cell_type": "markdown",
   "metadata": {},
   "source": [
    "Para aproximarnos al valor real lo vamos a hacer por sucesivas aproximaciones. Comenzamos por un valor inicial del Radio y vamos a ir haciendo aproximaciones al radio. Si nos pasamos hacemos el radio más pequeño, y si nos quedamos cortor lo hacemos más grande, con una variación cada vez más pequeña."
   ]
  },
  {
   "cell_type": "code",
   "execution_count": null,
   "metadata": {
    "collapsed": true
   },
   "outputs": [],
   "source": [
    "g_real=5.6\n",
    "error_g= 0.1\n",
    "\n",
    "R=10000000\n",
    "Delta_R=5000000\n",
    "\n",
    "G=6.674e-11\n",
    "rho0=11000\n",
    "rho1=2700\n",
    "\n",
    "r=np.linspace(0,R)"
   ]
  },
  {
   "cell_type": "code",
   "execution_count": null,
   "metadata": {
    "collapsed": true
   },
   "outputs": [],
   "source": [
    "rho=r*(rho1-rho0)/R + rho0\n",
    "#print(rho)"
   ]
  },
  {
   "cell_type": "code",
   "execution_count": null,
   "metadata": {
    "collapsed": true
   },
   "outputs": [],
   "source": [
    "f=4*np.pi*r*r*rho"
   ]
  },
  {
   "cell_type": "code",
   "execution_count": null,
   "metadata": {
    "collapsed": true
   },
   "outputs": [],
   "source": [
    "m=np.trapz(f,r)"
   ]
  },
  {
   "cell_type": "code",
   "execution_count": null,
   "metadata": {
    "collapsed": true
   },
   "outputs": [],
   "source": [
    "g=G*m/(R*R)"
   ]
  },
  {
   "cell_type": "code",
   "execution_count": null,
   "metadata": {
    "scrolled": true
   },
   "outputs": [],
   "source": [
    "error=1\n",
    "while abs(error)>error_g:\n",
    "    rho=r*(rho1-rho0)/R + rho0\n",
    "    f=4*np.pi*r*r*rho\n",
    "    m=np.trapz(f,r)\n",
    "    g=G*m/(R*R)\n",
    "    print(g)\n",
    "    error=g-g_real\n",
    "    if error>0:\n",
    "        R=R-Delta_R\n",
    "    else:\n",
    "        R=R+Delta_R\n",
    "    Delta_R/=2\n",
    "print(\"El radio del planeta es \",R,\"m\")"
   ]
  },
  {
   "cell_type": "code",
   "execution_count": null,
   "metadata": {
    "collapsed": true
   },
   "outputs": [],
   "source": []
  },
  {
   "cell_type": "markdown",
   "metadata": {},
   "source": [
    "# Gráficas "
   ]
  },
  {
   "cell_type": "code",
   "execution_count": null,
   "metadata": {
    "collapsed": true
   },
   "outputs": [],
   "source": [
    "import matplotlib.pyplot as plt\n",
    "plt.plot(points[0],points[1],'r.-.',x,y,'b.')\n",
    "plt.show()"
   ]
  },
  {
   "cell_type": "markdown",
   "metadata": {},
   "source": [
    "Vamos a calcular la integral numérica del campo gravitatoria para el planeta de los pájaros enfadados"
   ]
  },
  {
   "cell_type": "markdown",
   "metadata": {},
   "source": [
    "Problema: Calcular el seno de un ángulo para sexagesimales y radianes, en función de un parámetro que nos diga el tipo de grado"
   ]
  },
  {
   "cell_type": "code",
   "execution_count": null,
   "metadata": {},
   "outputs": [],
   "source": [
    "#x=np.linspace(0,10,20)\n",
    "x=np.pi\n",
    "grado_r=\"rad\"\n",
    "grado_s=\"sex\"\n",
    "grado = grado_r\n",
    "#print(x)\n",
    "\n",
    "if grado==grado_r:\n",
    "    y=np.sin(x)\n",
    "    print(\"radianes\")\n",
    "else:\n",
    "    xx=x*np.pi/360\n",
    "    #print(xx)\n",
    "    y=np.sin(xx)\n",
    "    print(\"sexagesimales\")\n",
    "print(y)\n",
    "    "
   ]
  }
 ],
 "metadata": {
  "kernelspec": {
   "display_name": "base",
   "language": "python",
   "name": "python3"
  },
  "language_info": {
   "codemirror_mode": {
    "name": "ipython",
    "version": 3
   },
   "file_extension": ".py",
   "mimetype": "text/x-python",
   "name": "python",
   "nbconvert_exporter": "python",
   "pygments_lexer": "ipython3",
   "version": "3.12.9"
  }
 },
 "nbformat": 4,
 "nbformat_minor": 2
}
